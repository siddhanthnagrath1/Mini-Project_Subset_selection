{
  "nbformat": 4,
  "nbformat_minor": 0,
  "metadata": {
    "colab": {
      "provenance": [],
      "authorship_tag": "ABX9TyNL35nR4gFuISFT7Axhrytt",
      "include_colab_link": true
    },
    "kernelspec": {
      "name": "python3",
      "display_name": "Python 3"
    },
    "language_info": {
      "name": "python"
    }
  },
  "cells": [
    {
      "cell_type": "markdown",
      "metadata": {
        "id": "view-in-github",
        "colab_type": "text"
      },
      "source": [
        "<a href=\"https://colab.research.google.com/github/siddhanthnagrath1/Mini-Project_Subset_selection/blob/main/Mini_Project_Subset_selection_Problem.ipynb\" target=\"_parent\"><img src=\"https://colab.research.google.com/assets/colab-badge.svg\" alt=\"Open In Colab\"/></a>"
      ]
    },
    {
      "cell_type": "markdown",
      "metadata": {
        "id": "7nQSRI4Dim1Y"
      },
      "source": [
        "  ---\n",
        "# **Subset Selection Problem**\n",
        "---\n",
        "####**1. Problem Statement:**\n",
        "Find all the subsets from a set of numbers whose sum is zero.\n",
        "\n",
        "####**Constraint: Subset size must be 5**\n",
        "Set={-12, -3, -6, 7, 2, -2, 6, 3, 9, -7, -5, -8, 1, 11, -9, -4}\n",
        "\n",
        "---"
      ]
    },
    {
      "cell_type": "markdown",
      "metadata": {
        "id": "A30y-VtNim1h"
      },
      "source": [
        "### **1.1 Library inclusion**"
      ]
    },
    {
      "cell_type": "code",
      "source": [
        "import random as r"
      ],
      "metadata": {
        "id": "T7cjyjA-bqSB"
      },
      "execution_count": null,
      "outputs": []
    },
    {
      "cell_type": "markdown",
      "metadata": {
        "id": "UjvBYy0Lim1m"
      },
      "source": [
        "### **1.2 Parameter Setting**"
      ]
    },
    {
      "cell_type": "code",
      "metadata": {
        "id": "NHB2KMhZim1o"
      },
      "source": [
        "Set         = set([-12, -3, -6, 7, 2, -2, 6, 3, 9, -7, -5, -8, 1, 11, -9, -4])\n",
        "SetSize     = 5\n",
        "ResultList  = set()    # Store Result List i.e. list of sets whose sum is zero\n",
        "Iterations  = 1000    # Number of Inerations"
      ],
      "execution_count": null,
      "outputs": []
    },
    {
      "cell_type": "markdown",
      "metadata": {
        "id": "BTLd3s--im1c"
      },
      "source": [
        "### **1.3 Start Program**\n",
        "\n",
        "\n"
      ]
    },
    {
      "cell_type": "code",
      "metadata": {
        "id": "veBU-f21im1x",
        "colab": {
          "base_uri": "https://localhost:8080/"
        },
        "outputId": "8e8f6638-2b6a-4109-8711-2e0edd5665a5"
      },
      "source": [
        "# Loop till number of Iterations\n",
        "for i in range(Iterations):\n",
        "    # Select number of elements from Set\n",
        "    Chromosome = r.sample(Set,SetSize)\n",
        "\n",
        "    # Sum the number of elements in the Chromosome\n",
        "    if sum(Chromosome) == 0:\n",
        "        ResultList.add(tuple(Chromosome))"
      ],
      "execution_count": null,
      "outputs": [
        {
          "output_type": "stream",
          "name": "stderr",
          "text": [
            "<ipython-input-3-ed7c48dd8d3e>:4: DeprecationWarning: Sampling from a set deprecated\n",
            "since Python 3.9 and will be removed in a subsequent version.\n",
            "  Chromosome = r.sample(Set,SetSize)\n"
          ]
        }
      ]
    },
    {
      "cell_type": "markdown",
      "metadata": {
        "id": "nRWYsJNVim1z"
      },
      "source": [
        "### **1.4 Print the sets and total count**\n"
      ]
    },
    {
      "cell_type": "code",
      "metadata": {
        "colab": {
          "base_uri": "https://localhost:8080/"
        },
        "id": "41abL1k-im10",
        "scrolled": true,
        "outputId": "817fe69b-8a48-4f84-bc5f-273b2b664472"
      },
      "source": [
        "# Print all the sets whose sum is zero\n",
        "for r in ResultList:\n",
        "\tprint (r)\n",
        "\n",
        "# Print total sets\n",
        "print (\"\\nTotal Sets: \", len(ResultList), \"\\n\")"
      ],
      "execution_count": 7,
      "outputs": [
        {
          "output_type": "stream",
          "name": "stdout",
          "text": [
            "(-5, 2, -12, 9, 6)\n",
            "(-2, -8, 6, 1, 3)\n",
            "(-7, -4, 2, 11, -2)\n",
            "(-7, 3, 6, -9, 7)\n",
            "(7, 2, -7, 3, -5)\n",
            "(7, -8, -5, 9, -3)\n",
            "(7, -2, 6, -8, -3)\n",
            "(-7, 6, 7, -8, 2)\n",
            "(-4, 3, -7, 7, 1)\n",
            "(-3, 11, -5, 1, -4)\n",
            "(6, -5, 9, -7, -3)\n",
            "(7, 9, -6, 2, -12)\n",
            "(-2, -3, 11, 1, -7)\n",
            "(-3, 9, -5, 7, -8)\n",
            "(-2, 2, 9, -3, -6)\n",
            "(7, 6, 1, -2, -12)\n",
            "(-5, 2, -4, -2, 9)\n",
            "(-4, 2, 1, -6, 7)\n",
            "(-6, 6, 11, -12, 1)\n",
            "(-5, -7, -2, 11, 3)\n",
            "(-9, -7, 3, 7, 6)\n",
            "(-9, -12, 9, 1, 11)\n",
            "(6, 7, 1, -2, -12)\n",
            "(6, -9, -7, 7, 3)\n",
            "(-6, 9, -9, -5, 11)\n",
            "(1, -3, -4, 11, -5)\n",
            "(-9, 2, 11, -7, 3)\n",
            "(9, -3, -5, -12, 11)\n",
            "(9, 3, -6, 2, -8)\n",
            "(6, -12, 2, 1, 3)\n",
            "(-2, -7, 6, 7, -4)\n",
            "(-12, 2, 7, -3, 6)\n",
            "(11, -7, -5, -8, 9)\n",
            "(-3, 3, 7, -5, -2)\n",
            "(-9, 3, 6, 2, -2)\n",
            "\n",
            "Total Sets:  35 \n",
            "\n"
          ]
        }
      ]
    },
    {
      "cell_type": "markdown",
      "metadata": {
        "id": "Kaevs6ROim18"
      },
      "source": [
        "---\n",
        "####**2. Problem Statement:**\n",
        "Find all the subsets from a set of numbers whose sum is zero.\n",
        "\n",
        "####**Constraint: Subset size must be 3 to 6 only**\n",
        "Set={-12, -3, -6, 7, 2, -2, 6, 3, 9, -7, -5, -8, 1, 11, -9, -4}\n",
        "\n",
        "---"
      ]
    },
    {
      "cell_type": "markdown",
      "metadata": {
        "id": "E3BNV7YLim12"
      },
      "source": [
        "---\n",
        "### **1.5 Complete Program**\n",
        "---"
      ]
    },
    {
      "cell_type": "code",
      "metadata": {
        "id": "c6KthRB9im14",
        "colab": {
          "base_uri": "https://localhost:8080/"
        },
        "outputId": "2eae49aa-c294-4605-a8dd-bb2991a189a0"
      },
      "source": [
        "#-------------------------------------------------------------\n",
        "# Step 1: Library inclusion\n",
        "#-------------------------------------------------------------\n",
        "import random as r\n",
        "\n",
        "\n",
        "#-------------------------------------------------------------\n",
        "# Step 2: Parameter Setting\n",
        "#-------------------------------------------------------------\n",
        "Set         = set([-12, -3, -6, 7, 2, -2, 6, 3, 9, -7, -5, -8, 1, 11, -9, -4])\n",
        "SetSize     = 5\n",
        "ResultList  = set()    # Store Result List i.e. list of sets whose sum is zero\n",
        "Iterations  = 1000   # Number of Inerations\n",
        "\n",
        "\n",
        "#-------------------------------------------------------------\n",
        "# Step3: Start Program\n",
        "#-------------------------------------------------------------\n",
        "\n",
        "# Loop till number of Iterations\n",
        "for i in range(Iterations):\n",
        "    # Select number of elements from Set\n",
        "    Chromosome = r.sample(Set,SetSize)\n",
        "\n",
        "    # Sum the number of elements in the Chromosome\n",
        "    if sum(Chromosome) == 0:\n",
        "        ResultList.add(tuple(Chromosome))\n",
        "\n",
        "# Print all the sets whose sum is zero\n",
        "for r in ResultList:\n",
        "\tprint (r)\n",
        "\n",
        "# Print total sets\n",
        "print (\"\\nTotal Sets: \", len(ResultList))\n"
      ],
      "execution_count": 6,
      "outputs": [
        {
          "output_type": "stream",
          "name": "stdout",
          "text": [
            "(-5, 2, -12, 9, 6)\n",
            "(-2, -8, 6, 1, 3)\n",
            "(-7, -4, 2, 11, -2)\n",
            "(-7, 3, 6, -9, 7)\n",
            "(7, 2, -7, 3, -5)\n",
            "(7, -8, -5, 9, -3)\n",
            "(7, -2, 6, -8, -3)\n",
            "(-7, 6, 7, -8, 2)\n",
            "(-4, 3, -7, 7, 1)\n",
            "(-3, 11, -5, 1, -4)\n",
            "(6, -5, 9, -7, -3)\n",
            "(7, 9, -6, 2, -12)\n",
            "(-2, -3, 11, 1, -7)\n",
            "(-3, 9, -5, 7, -8)\n",
            "(-2, 2, 9, -3, -6)\n",
            "(7, 6, 1, -2, -12)\n",
            "(-5, 2, -4, -2, 9)\n",
            "(-4, 2, 1, -6, 7)\n",
            "(-6, 6, 11, -12, 1)\n",
            "(-5, -7, -2, 11, 3)\n",
            "(-9, -7, 3, 7, 6)\n",
            "(-9, -12, 9, 1, 11)\n",
            "(6, 7, 1, -2, -12)\n",
            "(6, -9, -7, 7, 3)\n",
            "(-6, 9, -9, -5, 11)\n",
            "(1, -3, -4, 11, -5)\n",
            "(-9, 2, 11, -7, 3)\n",
            "(9, -3, -5, -12, 11)\n",
            "(9, 3, -6, 2, -8)\n",
            "(6, -12, 2, 1, 3)\n",
            "(-2, -7, 6, 7, -4)\n",
            "(-12, 2, 7, -3, 6)\n",
            "(11, -7, -5, -8, 9)\n",
            "(-3, 3, 7, -5, -2)\n",
            "(-9, 3, 6, 2, -2)\n",
            "\n",
            "Total Sets:  35\n"
          ]
        },
        {
          "output_type": "stream",
          "name": "stderr",
          "text": [
            "<ipython-input-6-e5b06b973959>:23: DeprecationWarning: Sampling from a set deprecated\n",
            "since Python 3.9 and will be removed in a subsequent version.\n",
            "  Chromosome = r.sample(Set,SetSize)\n"
          ]
        }
      ]
    },
    {
      "cell_type": "markdown",
      "source": [],
      "metadata": {
        "id": "x5r-2w5vdFuP"
      }
    },
    {
      "cell_type": "markdown",
      "metadata": {
        "id": "hGbWc9V2dH4d"
      },
      "source": [
        "---\n",
        "####**2. Problem Statement:**\n",
        "Find all the subsets from a set of numbers whose sum is zero.\n",
        "\n",
        "####**Constraint: Subset size must be 3 to 6 only**\n",
        "Set={-12, -3, -6, 7, 2, -2, 6, 3, 9, -7, -5, -8, 1, 11, -9, -4}\n",
        "\n",
        "---"
      ]
    },
    {
      "cell_type": "code",
      "metadata": {
        "colab": {
          "base_uri": "https://localhost:8080/"
        },
        "id": "XmPJbrOXim19",
        "outputId": "f3cfe253-8fed-4d03-f3b2-8eaaae8b8006"
      },
      "source": [
        "#-------------------------------------------------------------\n",
        "# Step 1: Library inclusion\n",
        "#-------------------------------------------------------------\n",
        "import random as r\n",
        "\n",
        "\n",
        "#-------------------------------------------------------------\n",
        "# Step 2: Parameter Setting\n",
        "#-------------------------------------------------------------\n",
        "Set         = set([-12, -3, -6, 7, 2, -2, 6, 3, 9, -7, -5, -8, 1, 11, -9, -4])\n",
        "SetLB       = 3\n",
        "SetUB       = 6\n",
        "ResultList  = set()    # Store Result List i.e. list of sets whose sum is zero\n",
        "Iterations  = 1000   # Number of Inerations\n",
        "\n",
        "\n",
        "#-------------------------------------------------------------\n",
        "# Step3: Start Program\n",
        "#-------------------------------------------------------------\n",
        "\n",
        "# Loop till number of Iterations\n",
        "for i in range(Iterations):\n",
        "    # Select set size randomly\n",
        "    SetSize = r.randint(SetLB,SetUB)\n",
        "\n",
        "    # Select number of elements from Set\n",
        "    Chromosome = r.sample(Set,SetSize)\n",
        "    Chromosome.sort()\n",
        "\n",
        "    # Sum the number of elements in the Chromosome\n",
        "    if sum(Chromosome) == 0:\n",
        "        ResultList.add(tuple(Chromosome))\n",
        "\n",
        "# Print all the sets whose sum is zero\n",
        "for r in ResultList:\n",
        "\tprint (r)\n",
        "\n",
        "# Print total sets\n",
        "print (\"\\nTotal Sets: \", len(ResultList))\n"
      ],
      "execution_count": 10,
      "outputs": [
        {
          "output_type": "stream",
          "name": "stdout",
          "text": [
            "(-12, -5, 6, 11)\n",
            "(-9, -8, -3, 9, 11)\n",
            "(-6, -5, -4, -2, 6, 11)\n",
            "(-8, -5, 6, 7)\n",
            "(-8, -6, -2, 7, 9)\n",
            "(-8, -2, 3, 7)\n",
            "(-6, -4, 1, 9)\n",
            "(-5, -3, -2, 3, 7)\n",
            "(-8, 1, 7)\n",
            "(-9, -6, -3, 7, 11)\n",
            "(-9, -2, 11)\n",
            "(-4, -2, 6)\n",
            "(-9, -6, 6, 9)\n",
            "(-8, -7, 1, 2, 3, 9)\n",
            "(-9, -4, -3, 1, 6, 9)\n",
            "(-8, -5, 1, 3, 9)\n",
            "(-9, -5, -4, 2, 7, 9)\n",
            "(-7, 1, 6)\n",
            "(-12, -9, 3, 7, 11)\n",
            "(-4, -3, 7)\n",
            "(-9, 3, 6)\n",
            "(-8, -3, 11)\n",
            "(-9, -7, -3, 2, 6, 11)\n",
            "(-9, -4, 6, 7)\n",
            "\n",
            "Total Sets:  24\n"
          ]
        },
        {
          "output_type": "stream",
          "name": "stderr",
          "text": [
            "<ipython-input-10-c329ea93fb8b>:27: DeprecationWarning: Sampling from a set deprecated\n",
            "since Python 3.9 and will be removed in a subsequent version.\n",
            "  Chromosome = r.sample(Set,SetSize)\n"
          ]
        }
      ]
    }
  ]
}